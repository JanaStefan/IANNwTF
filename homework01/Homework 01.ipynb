{
 "cells": [
  {
   "cell_type": "markdown",
   "id": "77debbfe",
   "metadata": {},
   "source": [
    "# Implementing ANNs with TensorFlow (2023/2024)\n",
    "\n",
    "## Homework01\n",
    "\n",
    "## Mahsa Zand and Jana Stefan"
   ]
  },
  {
   "cell_type": "markdown",
   "id": "b5c2c1f5",
   "metadata": {},
   "source": [
    "### Question1:"
   ]
  },
  {
   "cell_type": "code",
   "execution_count": 12,
   "id": "eb4fd63d",
   "metadata": {},
   "outputs": [],
   "source": [
    "class cat:\n",
    "    def __init__(self, name):\n",
    "        self.name = name\n",
    "     \n",
    "    def say_smt(self, cat2):\n",
    "        print( f\"Hello I am {self.name}! I see you are also a cool fluffy kitty Snowball {cat2.name}, let’s together purr at the human, so that they shall give us food.\")"
   ]
  },
  {
   "cell_type": "code",
   "execution_count": 14,
   "id": "2f8295e2",
   "metadata": {},
   "outputs": [
    {
     "name": "stdout",
     "output_type": "stream",
     "text": [
      "Hello I am Kittosaurus Rex! I see you are also a cool fluffy kitty Snowball IX, let’s together purr at the human, so that they shall give us food.\n",
      "Hello I am IX! I see you are also a cool fluffy kitty Snowball Kittosaurus Rex, let’s together purr at the human, so that they shall give us food.\n",
      "None\n",
      "None\n"
     ]
    }
   ],
   "source": [
    "from cat import cat\n",
    "\n",
    "\n",
    "cat1 = cat(\"Kittosaurus Rex\")\n",
    "cat2 = cat(\"IX\")\n",
    "\n",
    "talk_to_eachother1 = cat1.say_smt(cat2)\n",
    "talk_to_eachother2 = cat2.say_smt(cat1)\n",
    "\n",
    "print(talk_to_eachother1)\n",
    "print(talk_to_eachother2)"
   ]
  },
  {
   "cell_type": "markdown",
   "id": "06d46b1c",
   "metadata": {},
   "source": [
    "### Question2:"
   ]
  },
  {
   "cell_type": "code",
   "execution_count": 2,
   "id": "5f440a6d",
   "metadata": {},
   "outputs": [
    {
     "name": "stdout",
     "output_type": "stream",
     "text": [
      "[0, 1, 4, 9, 16, 25, 36, 49, 64, 81, 100, 121, 144, 169, 196, 225, 256, 289, 324, 361, 400, 441, 484, 529, 576, 625, 676, 729, 784, 841, 900, 961, 1024, 1089, 1156, 1225, 1296, 1369, 1444, 1521, 1600, 1681, 1764, 1849, 1936, 2025, 2116, 2209, 2304, 2401, 2500, 2601, 2704, 2809, 2916, 3025, 3136, 3249, 3364, 3481, 3600, 3721, 3844, 3969, 4096, 4225, 4356, 4489, 4624, 4761, 4900, 5041, 5184, 5329, 5476, 5625, 5776, 5929, 6084, 6241, 6400, 6561, 6724, 6889, 7056, 7225, 7396, 7569, 7744, 7921, 8100, 8281, 8464, 8649, 8836, 9025, 9216, 9409, 9604, 9801, 10000]\n",
      "[0, 4, 16, 36, 64, 100, 144, 196, 256, 324, 400, 484, 576, 676, 784, 900, 1024, 1156, 1296, 1444, 1600, 1764, 1936, 2116, 2304, 2500, 2704, 2916, 3136, 3364, 3600, 3844, 4096, 4356, 4624, 4900, 5184, 5476, 5776, 6084, 6400, 6724, 7056, 7396, 7744, 8100, 8464, 8836, 9216, 9604, 10000]\n"
     ]
    }
   ],
   "source": [
    "sq = [number**2 for number in range(101)]\n",
    "print(sq)\n",
    "\n",
    "evensq = [number**2 for number in range(101) if number**2 % 2 == 0]\n",
    "print(evensq)"
   ]
  },
  {
   "cell_type": "markdown",
   "id": "7dde334f",
   "metadata": {},
   "source": [
    "### Question3:"
   ]
  },
  {
   "cell_type": "code",
   "execution_count": 3,
   "id": "0afb42ed",
   "metadata": {},
   "outputs": [
    {
     "name": "stdout",
     "output_type": "stream",
     "text": [
      "1 Meow \n",
      "2 Meow Meow \n",
      "3 Meow Meow Meow Meow \n",
      "4 Meow Meow Meow Meow Meow Meow Meow Meow \n"
     ]
    }
   ],
   "source": [
    "def meow():\n",
    "    counter = 1\n",
    "    while True:\n",
    "        yield \"Meow \" * counter\n",
    "        counter *= 2\n",
    "\n",
    "\n",
    "        \n",
    "        \n",
    "generator1 = meow()\n",
    "for i in range(1, 5):\n",
    "    saymeow = next(generator1)\n",
    "    print(f\"{i} {saymeow}\")\n"
   ]
  },
  {
   "cell_type": "markdown",
   "id": "e6210de3",
   "metadata": {},
   "source": [
    "### Question4:"
   ]
  },
  {
   "cell_type": "code",
   "execution_count": 4,
   "id": "20dbd251",
   "metadata": {},
   "outputs": [
    {
     "name": "stdout",
     "output_type": "stream",
     "text": [
      "Fourth Column:\n",
      "[42.          0.60500872  0.82837177  0.05868465  0.23189905]\n"
     ]
    }
   ],
   "source": [
    "import numpy as np\n",
    "\n",
    "mu, zigma = 0, 1\n",
    "\n",
    "array = np.random.normal(mu, zigma, (5, 5))\n",
    "array = np.where(array > 0.09, array**2, 42)\n",
    "\n",
    "column4 = array[:, 3]\n",
    "print(\"Fourth Column:\")\n",
    "print(column4)"
   ]
  },
  {
   "cell_type": "markdown",
   "id": "a999ac1d",
   "metadata": {},
   "source": [
    "### Question5:\n",
    "\n",
    "***Sigmoid function: σ(z) = 1 / (1 + e^(-z))***\n",
    "\n",
    "$1. ∂y/∂x = = 8ax$\n",
    "\n",
    "*first step:* $∂y/∂x = ∂/∂x (4ax^2 + a) + ∂/∂x (σ(z)) + ∂/∂x (σ(b^2))$\n",
    "<br>\n",
    "\n",
    "\n",
    "*second step: with chain rule ->* $∂y/∂x = 8ax + ∂σ(z)/∂z*∂z/∂x + (∂σ(b^2)/∂b^2 * ∂b^2/∂b*∂b/∂x)$\n",
    "<br>\n",
    "\n",
    "\n",
    "*third step:* $∂y/∂x = 8ax + (σ(z)*(1 - σ(z))*0) + (σ(b^2)*(1 - σ(b^2)) * 2b * 0)$ \n",
    "<br>\n",
    "\n",
    "\n",
    "<br>\n",
    "<br>\n",
    "\n",
    "\n",
    "$2. ∂y/∂z=8ax^2 + 1$\n",
    "\n",
    "*first:* $∂y/∂z =∂/∂z (4ax^2 + a) + ∂/∂z (σ(z)) + ∂/∂z (σ(b^2))$\n",
    "\n",
    "*second: with chain rule ->* $∂y/∂z = ∂/∂z (4ax^2 + a) + ∂σ(z)/∂z + (∂σ(b^2)/∂b^2 * ∂b^2/∂b*∂b/∂z)$\n",
    "\n",
    "*then we have:* $∂y/∂z = 0 + (σ(z) * (1 - σ(z))) +(σ(b^2) * (1 - σ(b^2)) * 2b * 0) = σ(z) * (1 - σ(z)) = σ(z) * (1 - σ(z))$\n",
    "<br>\n",
    "<br>\n",
    "\n",
    "\n",
    "\n",
    "$3. ∂y/∂a = 4x^2 + 1$\n",
    "\n",
    "*first:* $∂y/∂a = ∂/∂a (4ax^2 + a) + ∂/∂a (σ(z)) + ∂/∂a (σ(b^2))$\n",
    "\n",
    "*second: with chain rule ->* $∂y/∂a = ∂/∂a (4ax^2 + a) + (∂σ(z)/∂z * ∂z/∂a )+ (∂σ(b^2)/∂b^2 * ∂b^2/∂b * ∂b/∂a)$\n",
    "\n",
    "*then we have:* $∂y/∂a = (4x^2 + 1) + (σ(z) * (1 - σ(z)) * 0) + (σ(b^2)* (1 - σ(b^2)) * 2b * 0) = 4x^2 + 1$\n",
    "\n",
    "\n",
    "\n",
    "$4. ∂y/∂b= 2σ(b) * (1-σ(b))$\n",
    "   \n",
    "*first:* $∂y/∂b = ∂/∂b (4ax^2 + a) + ∂/∂b (σ(z)) + ∂/∂b (σ(b^2))$\n",
    "\n",
    "*second:* chain rule -> $∂y/∂b = ∂/∂b (4ax^2 + a) + ∂σ(z)/∂z * ∂z/∂b + ∂σ(b^2)/∂b^2 * ∂b^2/∂b$\n",
    "\n",
    "*then we have:* $∂y/∂b = 0 + (σ(z)*(1-σ(z))*0) +( σ(b^2) * (1 - σ(b^2)) * 2b) = 2b * σ(b^2) * (1 - σ(b^2))$\n",
    "\n"
   ]
  },
  {
   "cell_type": "code",
   "execution_count": null,
   "id": "63c13d81",
   "metadata": {},
   "outputs": [],
   "source": []
  }
 ],
 "metadata": {
  "kernelspec": {
   "display_name": "Python 3 (ipykernel)",
   "language": "python",
   "name": "python3"
  },
  "language_info": {
   "codemirror_mode": {
    "name": "ipython",
    "version": 3
   },
   "file_extension": ".py",
   "mimetype": "text/x-python",
   "name": "python",
   "nbconvert_exporter": "python",
   "pygments_lexer": "ipython3",
   "version": "3.11.5"
  }
 },
 "nbformat": 4,
 "nbformat_minor": 5
}
