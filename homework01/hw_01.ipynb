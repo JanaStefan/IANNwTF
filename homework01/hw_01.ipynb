{
 "cells": [
  {
   "cell_type": "markdown",
   "id": "992e2cfce3820f19",
   "metadata": {},
   "source": [
    "# 2 Assignment: Multi-Layer Perceptron\n"
   ]
  },
  {
   "cell_type": "markdown",
   "id": "1110bd6ae6f7bad5",
   "metadata": {},
   "source": []
  },
  {
   "cell_type": "code",
   "execution_count": 2,
   "outputs": [
    {
     "data": {
      "text/plain": "<Figure size 1000x300 with 10 Axes>",
      "image/png": "[encoded data removed]"
     },
     "metadata": {},
     "output_type": "display_data"
    }
   ],
   "source": [
    "from sklearn.datasets import load_digits\n",
    "import matplotlib.pyplot as plt\n",
    "from sklearn.model_selection import train_test_split\n",
    "from sklearn.preprocessing import OneHotEncoder\n",
    "import numpy as np\n",
    "\n",
    "\n",
    "dataset = load_digits()\n",
    "\n",
    "# Step 1: Extract data into (input, target) tuples\n",
    "data = [(image, target) for image, target in zip(dataset.images, dataset.target)]\n",
    "\n",
    "# Step 2: Plot the images to check if they are correct\n",
    "def plot_images(images, targets, num_images=10):\n",
    "    fig, axes = plt.subplots(1, num_images, figsize=(10, 3))\n",
    "    for i in range(num_images):\n",
    "        axes[i].imshow(images[i].reshape(8, 8), cmap='gray')\n",
    "        axes[i].set_title(f\"Digit {targets[i]}\")\n",
    "        axes[i].axis('off')\n",
    "    plt.show()\n",
    "    \n",
    "\n",
    "# Plot the first 5 images\n",
    "# Assuming you have a list of 5 tuples in the 'data' variable\n",
    "data_subset = data[:10]\n",
    "# Unpack the tuples into separate lists using zip and *\n",
    "unpacked_lists = zip(*data_subset)\n",
    "\n",
    "# Pass the unpacked lists to the plot_images function\n",
    "plot_images(*unpacked_lists)\n"
   ],
   "metadata": {
    "collapsed": false,
    "ExecuteTime": {
     "end_time": "2023-11-07T13:17:06.860530Z",
     "start_time": "2023-11-07T13:17:05.560811Z"
    }
   },
   "id": "b2398b993c6d5e7c"
  },
  {
   "cell_type": "code",
   "execution_count": 3,
   "outputs": [
    {
     "name": "stdout",
     "output_type": "stream",
     "text": [
      "[(array([ 0.,  0.,  5., 13.,  9.,  1.,  0.,  0.,  0.,  0., 13., 15., 10.,\n",
      "       15.,  5.,  0.,  0.,  3., 15.,  2.,  0., 11.,  8.,  0.,  0.,  4.,\n",
      "       12.,  0.,  0.,  8.,  8.,  0.,  0.,  5.,  8.,  0.,  0.,  9.,  8.,\n",
      "        0.,  0.,  4., 11.,  0.,  1., 12.,  7.,  0.,  0.,  2., 14.,  5.,\n",
      "       10., 12.,  0.,  0.,  0.,  0.,  6., 13., 10.,  0.,  0.,  0.]), 0), (array([ 0.,  0.,  0., 12., 13.,  5.,  0.,  0.,  0.,  0.,  0., 11., 16.,\n",
      "        9.,  0.,  0.,  0.,  0.,  3., 15., 16.,  6.,  0.,  0.,  0.,  7.,\n",
      "       15., 16., 16.,  2.,  0.,  0.,  0.,  0.,  1., 16., 16.,  3.,  0.,\n",
      "        0.,  0.,  0.,  1., 16., 16.,  6.,  0.,  0.,  0.,  0.,  1., 16.,\n",
      "       16.,  6.,  0.,  0.,  0.,  0.,  0., 11., 16., 10.,  0.,  0.]), 1), (array([ 0.,  0.,  0.,  4., 15., 12.,  0.,  0.,  0.,  0.,  3., 16., 15.,\n",
      "       14.,  0.,  0.,  0.,  0.,  8., 13.,  8., 16.,  0.,  0.,  0.,  0.,\n",
      "        1.,  6., 15., 11.,  0.,  0.,  0.,  1.,  8., 13., 15.,  1.,  0.,\n",
      "        0.,  0.,  9., 16., 16.,  5.,  0.,  0.,  0.,  0.,  3., 13., 16.,\n",
      "       16., 11.,  5.,  0.,  0.,  0.,  0.,  3., 11., 16.,  9.,  0.]), 2), (array([ 0.,  0.,  7., 15., 13.,  1.,  0.,  0.,  0.,  8., 13.,  6., 15.,\n",
      "        4.,  0.,  0.,  0.,  2.,  1., 13., 13.,  0.,  0.,  0.,  0.,  0.,\n",
      "        2., 15., 11.,  1.,  0.,  0.,  0.,  0.,  0.,  1., 12., 12.,  1.,\n",
      "        0.,  0.,  0.,  0.,  0.,  1., 10.,  8.,  0.,  0.,  0.,  8.,  4.,\n",
      "        5., 14.,  9.,  0.,  0.,  0.,  7., 13., 13.,  9.,  0.,  0.]), 3), (array([ 0.,  0.,  0.,  1., 11.,  0.,  0.,  0.,  0.,  0.,  0.,  7.,  8.,\n",
      "        0.,  0.,  0.,  0.,  0.,  1., 13.,  6.,  2.,  2.,  0.,  0.,  0.,\n",
      "        7., 15.,  0.,  9.,  8.,  0.,  0.,  5., 16., 10.,  0., 16.,  6.,\n",
      "        0.,  0.,  4., 15., 16., 13., 16.,  1.,  0.,  0.,  0.,  0.,  3.,\n",
      "       15., 10.,  0.,  0.,  0.,  0.,  0.,  2., 16.,  4.,  0.,  0.]), 4)]\n"
     ]
    }
   ],
   "source": [
    "# Step 3: Reshape images into vectors\n",
    "# using flatten() function to flat the image data into a vertor \n",
    "data = [(image.flatten(), target) for image, target in data]\n",
    "print(data[:5])\n",
    "# Step 4: Rescale images to [0, 1] range\n",
    "data = [(image.astype(np.float32) / 255.0, target) for image, target in data]\n",
    "\n",
    "# Step 5: One-hot encode the target digits\n",
    "encoder = OneHotEncoder(sparse_output=False, categories='auto')\n",
    "targets = np.array([target for _, target in data]).reshape(-1, 1)\n",
    "onehot_targets = encoder.fit_transform(targets)\n",
    "\n",
    "# Step 6: Write a generator function\n",
    "def data_generator(data, batch_size):\n",
    "    while True:\n",
    "        np.random.shuffle(data)\n",
    "        for i in range(0, len(data), batch_size):\n",
    "            batch_data = data[i:i+batch_size]\n",
    "            batch_inputs, batch_targets = zip(*batch_data)\n",
    "            yield np.array(batch_inputs), np.array(batch_targets)\n",
    "\n",
    "# Example usage of the generator\n",
    "batch_size = 32\n",
    "train_data, val_data = train_test_split(data, test_size=0.2, random_state=42)\n",
    "\n",
    "train_generator = data_generator(train_data, batch_size)\n",
    "val_generator = data_generator(val_data, batch_size)\n",
    "\n",
    "# You can now use train_generator and val_generator in your training loop\n",
    "# For example:\n",
    "# for epoch in range(num_epochs):\n",
    "#     for batch_inputs, batch_targets in train_generator:\n",
    "#         # Your training logic here"
   ],
   "metadata": {
    "collapsed": false,
    "ExecuteTime": {
     "end_time": "2023-11-07T13:17:06.887351Z",
     "start_time": "2023-11-07T13:17:06.861275Z"
    }
   },
   "id": "e9a4a069f4b89046"
  },
  {
   "cell_type": "code",
   "execution_count": null,
   "outputs": [],
   "source": [],
   "metadata": {
    "collapsed": false
   },
   "id": "bf63aa1951a71cf0"
  },
  {
   "cell_type": "code",
   "execution_count": null,
   "outputs": [],
   "source": [],
   "metadata": {
    "collapsed": false
   },
   "id": "66e8f7d8f317947e"
  },
  {
   "cell_type": "markdown",
   "source": [
    "# 2.2 Sigmoid Activation Function\n"
   ],
   "metadata": {
    "collapsed": false
   },
   "id": "14280642857a2877"
  },
  {
   "cell_type": "code",
   "execution_count": 31,
   "outputs": [],
   "source": [
    "\n",
    "class Sigmoid:\n",
    "    def __call__(self, x):\n",
    "        \"\"\"\n",
    "        Compute the sigmoid activation function.\n",
    "\n",
    "        Parameters:\n",
    "        - x: ndarray, shape (minibatch_size, num_units)\n",
    "          Input array.\n",
    "\n",
    "        Returns:\n",
    "        - ndarray, shape (minibatch_size, num_units)\n",
    "          Output array after applying the sigmoid activation function element-wise.\n",
    "        \"\"\"\n",
    "        return 1 / (1 + np.exp(-x))\n"
   ],
   "metadata": {
    "collapsed": false,
    "ExecuteTime": {
     "end_time": "2023-11-06T20:40:46.758420Z",
     "start_time": "2023-11-06T20:40:46.753284Z"
    }
   },
   "id": "6e53a3fb0ac95753"
  },
  {
   "cell_type": "markdown",
   "source": [
    "# 2.3 Softmax activation function\n"
   ],
   "metadata": {
    "collapsed": false
   },
   "id": "e8f5288013f8874"
  },
  {
   "cell_type": "code",
   "execution_count": null,
   "outputs": [],
   "source": [
    "import numpy as np\n",
    "\n",
    "class SoftmaxActivation:\n",
    "    def __call__(self, x):\n",
    "        \"\"\"\n",
    "        Compute the softmax activation function.\n",
    "\n",
    "        Parameters:\n",
    "        - x: ndarray, shape (minibatch_size, 10)\n",
    "          Input array.\n",
    "\n",
    "        Returns:\n",
    "        - ndarray, shape (minibatch_size, 10)\n",
    "          Output array after applying the softmax activation function element-wise.\n",
    "        \"\"\"\n",
    "        exp_x = np.exp(x - np.max(x, axis=1, keepdims=True))\n",
    "        softmax_output = exp_x / np.sum(exp_x, axis=1, keepdims=True)\n",
    "        return softmax_output\n"
   ],
   "metadata": {
    "collapsed": false
   },
   "id": "1c1f3eb38c7ea34d"
  },
  {
   "cell_type": "code",
   "execution_count": null,
   "outputs": [],
   "source": [
    "import numpy as np\n",
    "\n",
    "class MLPLayer:\n",
    "    def __init__(self, activation_function, num_units, input_size):\n",
    "        \"\"\"\n",
    "        Initialize the MLP layer.\n",
    "\n",
    "        Parameters:\n",
    "        - activation_function: object\n",
    "          An instance of the activation function (SigmoidActivation or SoftmaxActivation).\n",
    "        - num_units: int\n",
    "          Number of units (perceptrons) in the layer.\n",
    "        - input_size: int\n",
    "          Number of units in the preceding layer.\n",
    "        \"\"\"\n",
    "        self.activation_function = activation_function\n",
    "        self.num_units = num_units\n",
    "        self.input_size = input_size\n",
    "\n",
    "        # Initialize weights with small random values and bias with zeros\n",
    "        self.weights = np.random.normal(loc=0.0, scale=0.2, size=(input_size, num_units))\n",
    "        self.bias = np.zeros((1, num_units))\n",
    "\n",
    "    def forward(self, x):\n",
    "        \"\"\"\n",
    "        Perform the forward pass of the MLP layer.\n",
    "\n",
    "        Parameters:\n",
    "        - x: ndarray, shape (minibatch_size, input_size)\n",
    "          Input array.\n",
    "\n",
    "        Returns:\n",
    "        - ndarray, shape (minibatch_size, num_units)\n",
    "          Output array after applying the weight matrix, bias, and activation function.\n",
    "        \"\"\"\n",
    "        # Calculate pre-activations\n",
    "        pre_activations = np.dot(x, self.weights) + self.bias\n",
    "\n",
    "        # Apply activation function\n",
    "        output = self.activation_function(pre_activations)\n",
    "\n",
    "        return output\n"
   ],
   "metadata": {
    "collapsed": false
   },
   "id": "59fcce061571395c"
  },
  {
   "cell_type": "code",
   "execution_count": null,
   "outputs": [],
   "source": [
    "import numpy as np\n",
    "\n",
    "class CategoricalCrossEntropyLoss:\n",
    "    def __call__(self, y_true, y_pred):\n",
    "        \"\"\"\n",
    "        Compute the Categorical Cross-Entropy Loss.\n",
    "\n",
    "        Parameters:\n",
    "        - y_true: ndarray, shape (minibatch_size, num_classes)\n",
    "          True labels (one-hot encoded).\n",
    "        - y_pred: ndarray, shape (minibatch_size, num_classes)\n",
    "          Predicted probabilities.\n",
    "\n",
    "        Returns:\n",
    "        - float\n",
    "          Categorical Cross-Entropy Loss.\n",
    "        \"\"\"\n",
    "        # Avoid numerical instability by adding a small epsilon\n",
    "        epsilon = 1e-15\n",
    "        y_pred = np.clip(y_pred, epsilon, 1 - epsilon)\n",
    "\n",
    "        # Compute the cross-entropy loss\n",
    "        loss = -np.sum(y_true * np.log(y_pred)) / y_true.shape[0]\n",
    "\n",
    "        return loss\n"
   ],
   "metadata": {
    "collapsed": false
   },
   "id": "30a967b464609044"
  }
 ],
 "metadata": {
  "kernelspec": {
   "display_name": "Python 3 (ipykernel)",
   "language": "python",
   "name": "python3"
  },
  "language_info": {
   "codemirror_mode": {
    "name": "ipython",
    "version": 3
   },
   "file_extension": ".py",
   "mimetype": "text/x-python",
   "name": "python",
   "nbconvert_exporter": "python",
   "pygments_lexer": "ipython3",
   "version": "3.11.5"
  }
 },
 "nbformat": 4,
 "nbformat_minor": 5
}
